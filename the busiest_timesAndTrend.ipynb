{
 "cells": [
  {
   "cell_type": "code",
   "execution_count": 4,
   "id": "1612c76f-e67e-468f-ae2a-97b10b48d90a",
   "metadata": {},
   "outputs": [],
   "source": [
    "import pandas as pd\n",
    "import numpy as np\n",
    "import seaborn as sns\n",
    "import matplotlib.pyplot as plt\n",
    "pd.set_option(\"display.max_columns\", None)\n",
    "%matplotlib inline \n",
    "import warnings\n",
    "warnings.simplefilter(action = 'ignore', category=Warning)"
   ]
  },
  {
   "cell_type": "code",
   "execution_count": 5,
   "id": "8c619ded-7d19-40e4-b67f-7cdf1615a311",
   "metadata": {},
   "outputs": [],
   "source": [
    "df = pd.read_csv(r'C:\\Users\\Samir\\Documents\\ML\\DataSets\\calendar.csv')\n",
    "df.drop('adjusted_price',axis=1, inplace=True)"
   ]
  },
  {
   "cell_type": "code",
   "execution_count": 6,
   "id": "6be12f2c-ddde-4278-89fa-df183e2b0451",
   "metadata": {},
   "outputs": [
    {
     "data": {
      "text/html": [
       "<div>\n",
       "<style scoped>\n",
       "    .dataframe tbody tr th:only-of-type {\n",
       "        vertical-align: middle;\n",
       "    }\n",
       "\n",
       "    .dataframe tbody tr th {\n",
       "        vertical-align: top;\n",
       "    }\n",
       "\n",
       "    .dataframe thead th {\n",
       "        text-align: right;\n",
       "    }\n",
       "</style>\n",
       "<table border=\"1\" class=\"dataframe\">\n",
       "  <thead>\n",
       "    <tr style=\"text-align: right;\">\n",
       "      <th></th>\n",
       "      <th>listing_id</th>\n",
       "      <th>date</th>\n",
       "      <th>available</th>\n",
       "      <th>price</th>\n",
       "      <th>minimum_nights</th>\n",
       "      <th>maximum_nights</th>\n",
       "    </tr>\n",
       "  </thead>\n",
       "  <tbody>\n",
       "    <tr>\n",
       "      <th>0</th>\n",
       "      <td>6606</td>\n",
       "      <td>2024-06-24</td>\n",
       "      <td>f</td>\n",
       "      <td>$90.00</td>\n",
       "      <td>30.0</td>\n",
       "      <td>1125.0</td>\n",
       "    </tr>\n",
       "    <tr>\n",
       "      <th>1</th>\n",
       "      <td>6606</td>\n",
       "      <td>2024-06-25</td>\n",
       "      <td>f</td>\n",
       "      <td>$90.00</td>\n",
       "      <td>30.0</td>\n",
       "      <td>1125.0</td>\n",
       "    </tr>\n",
       "    <tr>\n",
       "      <th>2</th>\n",
       "      <td>6606</td>\n",
       "      <td>2024-06-26</td>\n",
       "      <td>f</td>\n",
       "      <td>$90.00</td>\n",
       "      <td>30.0</td>\n",
       "      <td>1125.0</td>\n",
       "    </tr>\n",
       "    <tr>\n",
       "      <th>3</th>\n",
       "      <td>6606</td>\n",
       "      <td>2024-06-27</td>\n",
       "      <td>f</td>\n",
       "      <td>$90.00</td>\n",
       "      <td>30.0</td>\n",
       "      <td>1125.0</td>\n",
       "    </tr>\n",
       "    <tr>\n",
       "      <th>4</th>\n",
       "      <td>6606</td>\n",
       "      <td>2024-06-28</td>\n",
       "      <td>f</td>\n",
       "      <td>$90.00</td>\n",
       "      <td>30.0</td>\n",
       "      <td>1125.0</td>\n",
       "    </tr>\n",
       "  </tbody>\n",
       "</table>\n",
       "</div>"
      ],
      "text/plain": [
       "   listing_id        date available   price  minimum_nights  maximum_nights\n",
       "0        6606  2024-06-24         f  $90.00            30.0          1125.0\n",
       "1        6606  2024-06-25         f  $90.00            30.0          1125.0\n",
       "2        6606  2024-06-26         f  $90.00            30.0          1125.0\n",
       "3        6606  2024-06-27         f  $90.00            30.0          1125.0\n",
       "4        6606  2024-06-28         f  $90.00            30.0          1125.0"
      ]
     },
     "execution_count": 6,
     "metadata": {},
     "output_type": "execute_result"
    }
   ],
   "source": [
    "df.head()"
   ]
  },
  {
   "cell_type": "code",
   "execution_count": 7,
   "id": "3bc252e3-9ed6-40f0-827f-bb81f1a0dc90",
   "metadata": {},
   "outputs": [
    {
     "name": "stdout",
     "output_type": "stream",
     "text": [
      "<class 'pandas.core.frame.DataFrame'>\n",
      "RangeIndex: 2350878 entries, 0 to 2350877\n",
      "Data columns (total 6 columns):\n",
      " #   Column          Dtype  \n",
      "---  ------          -----  \n",
      " 0   listing_id      int64  \n",
      " 1   date            object \n",
      " 2   available       object \n",
      " 3   price           object \n",
      " 4   minimum_nights  float64\n",
      " 5   maximum_nights  float64\n",
      "dtypes: float64(2), int64(1), object(3)\n",
      "memory usage: 107.6+ MB\n"
     ]
    }
   ],
   "source": [
    "df.info()"
   ]
  },
  {
   "cell_type": "code",
   "execution_count": 8,
   "id": "6b61e5b8-df11-40a6-967e-3564ed453a6f",
   "metadata": {},
   "outputs": [
    {
     "data": {
      "text/plain": [
       "date\n",
       "2024-12-24    6442\n",
       "2025-02-05    6442\n",
       "2025-02-13    6442\n",
       "2025-02-12    6442\n",
       "2025-02-11    6442\n",
       "              ... \n",
       "2025-06-01    6423\n",
       "2025-06-23    6423\n",
       "2025-06-22    6423\n",
       "2024-06-24    3821\n",
       "2025-06-24    2606\n",
       "Name: count, Length: 366, dtype: int64"
      ]
     },
     "execution_count": 8,
     "metadata": {},
     "output_type": "execute_result"
    }
   ],
   "source": [
    "df.date.value_counts(ascending=False)"
   ]
  },
  {
   "cell_type": "code",
   "execution_count": 9,
   "id": "da59afb3-db44-4005-8063-d69ff80e6ab6",
   "metadata": {},
   "outputs": [
    {
     "data": {
      "text/plain": [
       "available\n",
       "t    1182088\n",
       "f    1168790\n",
       "Name: count, dtype: int64"
      ]
     },
     "execution_count": 9,
     "metadata": {},
     "output_type": "execute_result"
    }
   ],
   "source": [
    "df.available.value_counts()"
   ]
  },
  {
   "cell_type": "code",
   "execution_count": 10,
   "id": "9ebbf1c7-e1a4-41aa-b670-f36d3d5c4fba",
   "metadata": {},
   "outputs": [],
   "source": [
    "#What are the busiest times of the year to visit Seattle? By how much do prices spike?"
   ]
  },
  {
   "cell_type": "code",
   "execution_count": 11,
   "id": "7e16c565-dc64-4a38-8f62-3b26ffa60a42",
   "metadata": {},
   "outputs": [],
   "source": [
    "df['date'] = pd.to_datetime(df['date'])\n",
    "\n",
    "df['year'] = df['date'].dt.year\n",
    "df['month'] = df['date'].dt.month\n",
    "df['day'] = df['date'].dt.day\n"
   ]
  },
  {
   "cell_type": "code",
   "execution_count": 12,
   "id": "caae57cf-e996-4f48-b014-5481bbcd83f7",
   "metadata": {},
   "outputs": [
    {
     "data": {
      "text/plain": [
       "year\n",
       "2024    1227801\n",
       "2025    1123077\n",
       "Name: count, dtype: int64"
      ]
     },
     "execution_count": 12,
     "metadata": {},
     "output_type": "execute_result"
    }
   ],
   "source": [
    "df['year'].value_counts()"
   ]
  },
  {
   "cell_type": "code",
   "execution_count": 13,
   "id": "8dee96c7-3076-427d-be0e-4df4e34b6ea0",
   "metadata": {},
   "outputs": [],
   "source": [
    "df['available'] = df['available'].map({'t':1,'f':0})"
   ]
  },
  {
   "cell_type": "markdown",
   "id": "be135ca7-9231-4db0-a380-40c4fc4505de",
   "metadata": {},
   "source": [
    "**July is the bussiest month**"
   ]
  },
  {
   "cell_type": "code",
   "execution_count": 15,
   "id": "b2ecde56-5dc3-4453-a6bb-471bfc5336c3",
   "metadata": {},
   "outputs": [
    {
     "data": {
      "text/plain": [
       "month\n",
       "7    0.304679\n",
       "6    0.334716\n",
       "5    0.388274\n",
       "4    0.401806\n",
       "8    0.480761\n",
       "Name: available, dtype: float64"
      ]
     },
     "execution_count": 15,
     "metadata": {},
     "output_type": "execute_result"
    }
   ],
   "source": [
    "X = df.groupby('month')['available'].mean().sort_values()\n",
    "X[:5]"
   ]
  },
  {
   "cell_type": "code",
   "execution_count": 16,
   "id": "3b444635-8064-4801-8ddf-ce5f236aa4ba",
   "metadata": {},
   "outputs": [
    {
     "data": {
      "image/png": "[encoded data removed]",
      "text/plain": [
       "<Figure size 640x480 with 1 Axes>"
      ]
     },
     "metadata": {},
     "output_type": "display_data"
    }
   ],
   "source": [
    "sns.barplot(X[:5], palette='tab10')\n",
    "\n",
    "plt.show()"
   ]
  },
  {
   "cell_type": "code",
   "execution_count": 17,
   "id": "bfe191d2-6317-41be-a38e-d2c99178ee79",
   "metadata": {
    "scrolled": true
   },
   "outputs": [
    {
     "data": {
      "text/plain": [
       "array(['$90.00', '$600.00', '$129.00', '$81.00', '$300.00', '$115.00',\n",
       "       '$78.00', '$100.00', '$125.00', '$42.00', '$165.00', '$50.00',\n",
       "       '$69.00', '$106.00', '$99.00', '$65.00', '$145.00', '$89.00',\n",
       "       '$179.00', '$485.00', '$119.00', '$93.00', '$105.00', '$60.00',\n",
       "       '$285.00', '$173.00', '$215.00', '$240.00', '$230.00', '$118.00',\n",
       "       '$135.00', '$112.00', '$110.00', '$98.00', '$35.00', '$70.00',\n",
       "       '$85.00', '$95.00', '$138.00', '$150.00', '$88.00', '$75.00',\n",
       "       '$56.00', '$131.00', '$87.00', '$45.00', '$172.00', '$255.00',\n",
       "       '$40.00', '$46.00', '$175.00', '$120.00', '$155.00', '$130.00',\n",
       "       '$52.00', '$154.00', '$275.00', '$84.00', '$64.00', '$226.00',\n",
       "       '$57.00', '$251.00', '$166.00', '$169.00', '$80.00', '$185.00',\n",
       "       '$320.00', '$124.00', '$225.00', '$565.00', '$142.00', '$68.00',\n",
       "       '$900.00', '$199.00', '$557.00', '$295.00', '$180.00', '$55.00',\n",
       "       '$350.00', '$160.00', '$500.00', '$103.00', '$109.00', '$290.00',\n",
       "       '$284.00', '$400.00', '$82.00', '$107.00', '$140.00', '$134.00',\n",
       "       '$220.00', '$159.00', '$450.00', '$170.00', '$280.00', '$272.00',\n",
       "       '$349.00', '$59.00', '$71.00', '$113.00', '$197.00', '$58.00',\n",
       "       '$128.00', '$74.00', '$136.00', '$195.00', '$133.00', '$79.00',\n",
       "       '$92.00', '$299.00', '$1,051.00', '$94.00', '$445.00', '$336.00',\n",
       "       '$218.00', '$149.00', '$139.00', '$325.00', '$2,000.00', '$114.00',\n",
       "       '$20.00', '$276.00', '$137.00', '$615.00', '$283.00', '$250.00',\n",
       "       '$499.00', '$76.00', '$364.00', '$265.00', '$245.00', '$210.00',\n",
       "       '$200.00', '$310.00', '$126.00', '$86.00', '$66.00', '$416.00',\n",
       "       '$189.00', '$122.00', '$389.00', '$700.00', '$249.00', '$49.00',\n",
       "       '$97.00', '$72.00', '$260.00', '$270.00', '$63.00', '$102.00',\n",
       "       '$127.00', '$213.00', '$117.00', '$101.00', '$54.00', '$62.00',\n",
       "       '$222.00', '$167.00', '$286.00', '$190.00', '$302.00', '$47.00',\n",
       "       '$550.00', '$239.00', '$291.00', '$178.00', '$307.00', '$390.00',\n",
       "       '$671.00', '$96.00', '$340.00', '$269.00', '$171.00', '$83.00',\n",
       "       '$525.00', '$205.00', '$308.00', '$599.00', '$198.00', '$345.00',\n",
       "       '$298.00', '$161.00', '$111.00', '$123.00', '$241.00', '$323.00',\n",
       "       '$399.00', '$104.00', '$23.00', '$1,095.00', '$51.00', '$91.00',\n",
       "       '$30.00', '$28.00', '$311.00', '$315.00', '$850.00', '$53.00',\n",
       "       '$235.00', '$188.00', '$351.00', '$680.00', '$148.00', '$342.00',\n",
       "       '$799.00', '$206.00', '$1,000.00', '$208.00', '$187.00', '$598.00',\n",
       "       '$182.00', '$174.00', '$27.00', '$329.00', '$67.00', '$236.00',\n",
       "       '$77.00', '$425.00', '$895.00', '$121.00', '$549.00', '$459.00',\n",
       "       '$379.00', '$39.00', '$43.00', '$401.00', '$582.00', '$279.00',\n",
       "       '$778.00', '$143.00', '$132.00', '$34.00', '$108.00', '$246.00',\n",
       "       '$191.00', '$650.00', '$590.00', '$217.00', '$147.00', '$259.00',\n",
       "       '$595.00', '$289.00', '$1,720.00', '$623.00', '$318.00', '$545.00',\n",
       "       '$800.00', '$344.00', '$44.00', '$212.00', '$32.00', '$186.00',\n",
       "       '$244.00', '$475.00', '$520.00', '$203.00', '$158.00', '$211.00',\n",
       "       '$395.00', '$333.00', '$297.00', '$254.00', '$152.00', '$287.00',\n",
       "       '$73.00', '$229.00', '$177.00', '$168.00', '$330.00', '$306.00',\n",
       "       '$625.00', '$192.00', '$163.00', '$151.00', '$157.00', '$375.00',\n",
       "       '$534.00', '$510.00', '$202.00', '$29.00', '$1,140.00', '$530.00',\n",
       "       '$388.00', '$321.00', '$1,500.00', '$164.00', '$176.00',\n",
       "       '$2,448.00', '$781.00', '$2,327.00', '$1,390.00', '$603.00',\n",
       "       '$1,173.00', '$823.00', '$2,426.00', '$359.00', '$950.00',\n",
       "       '$4,450.00', '$391.00', '$674.00', '$501.00', '$248.00', '$181.00',\n",
       "       '$382.00', '$402.00', '$513.00', '$378.00', '$41.00', '$754.00',\n",
       "       '$1,271.00', '$454.00', '$2,558.00', '$367.00', '$989.00',\n",
       "       '$690.00', '$478.00', '$607.00', '$683.00', '$116.00', '$456.00',\n",
       "       '$37.00', '$207.00', '$38.00', '$710.00', '$1,043.00', '$1,203.00',\n",
       "       '$204.00', '$654.00', '$438.14', '$713.00', '$221.00', '$449.00',\n",
       "       '$667.00', '$194.00', '$243.00', '$847.00', '$2,512.00', '$742.00',\n",
       "       '$884.00', '$1,665.00', '$405.00', '$482.00', '$216.00', '$415.00',\n",
       "       '$3,000.00', '$1,394.00', '$780.00', '$253.00', '$462.00',\n",
       "       '$686.00', '$314.00', '$495.00', '$26.00', '$326.00', '$541.00',\n",
       "       '$363.00', '$584.00', '$1,259.00', '$380.00', '$360.00', '$262.00',\n",
       "       '$672.00', '$1,768.00', '$756.00', '$419.00', '$725.00', '$429.00',\n",
       "       '$1,511.00', '$684.00', '$228.00', '$219.00', '$1,754.00',\n",
       "       '$936.00', '$1,175.00', '$309.00', '$596.00', '$762.00', '$707.00',\n",
       "       '$533.00', '$760.00', '$193.00', '$258.00', '$886.00', '$640.00',\n",
       "       '$994.00', '$372.00', '$1,039.00', '$328.00', '$636.00', '$827.00',\n",
       "       '$571.00', '$247.00', '$252.00', '$256.00', '$227.00', '$2,023.00',\n",
       "       '$709.00', '$494.00', '$538.00', '$1,649.00', '$352.00', '$369.00',\n",
       "       '$1,499.00', '$679.00', '$1,084.00', '$490.00', '$1,119.00',\n",
       "       '$1,562.00', '$2,474.00', '$768.00', '$335.00', '$231.00',\n",
       "       '$263.00', '$153.00', '$504.00', '$564.00', '$233.00', '$353.00',\n",
       "       '$597.00', '$278.00', '$277.00', '$438.00', '$334.00', '$268.00',\n",
       "       '$724.00', '$455.00', '$1,666.00', '$840.00', '$9,999.00',\n",
       "       '$740.00', '$303.00', '$398.00', '$337.00', '$12,000.00',\n",
       "       '$969.00', '$851.00', '$1,751.00', '$274.00', '$409.00', '$435.00',\n",
       "       '$446.00', '$808.00', '$932.00', '$995.00', '$924.00', '$2,285.00',\n",
       "       '$866.00', '$1,010.00', '$750.00', '$695.00', '$463.00',\n",
       "       '$2,161.00', '$162.00', '$10,000.00', '$0.00', '$542.00',\n",
       "       '$1,321.00', '$833.00', '$319.00', '$183.00', '$1,697.00',\n",
       "       '$1,767.00', '$1,127.00', '$156.00', '$358.00', '$423.00',\n",
       "       '$201.00', '$338.00', '$341.00', '$420.00', '$440.00', '$460.00',\n",
       "       '$1,139.00', '$288.00', '$558.00', '$1,457.00', '$1,543.00',\n",
       "       '$996.00', '$661.00', '$616.00', '$1,021.00', '$273.00', '$294.00',\n",
       "       '$731.00', '$687.00', '$761.00', '$1,598.00', '$1,555.00',\n",
       "       '$931.00', '$706.00', '$1,552.00', '$331.00', '$430.00',\n",
       "       '$1,636.00', '$144.00', '$266.00', '$566.00', '$36.00', '$316.00',\n",
       "       '$223.00', '$4,000.00', '$209.00', '$570.00', '$2,703.00',\n",
       "       '$412.00', '$701.00', '$575.00', '$497.00', '$926.00', '$698.00',\n",
       "       '$365.00', '$1,065.00', '$1,373.00', '$322.00', '$296.00',\n",
       "       '$519.00', '$792.00', '$1,885.00', '$339.00', '$2,013.00',\n",
       "       '$439.00', '$548.00', '$1,890.00', '$282.00', '$540.00', '$843.00',\n",
       "       '$613.00', '$875.00', '$860.00', '$1,568.00', '$811.00',\n",
       "       '$1,338.00', '$442.00', '$1,465.00', '$580.00', '$628.00',\n",
       "       '$1,505.00', '$518.00', '$1,388.00', '$894.00', '$2,061.00',\n",
       "       '$2,732.00', '$486.00', '$1,916.00', '$2,420.00', '$834.00',\n",
       "       '$1,716.00', '$677.00', '$301.00', '$796.00', '$238.00', '$489.00',\n",
       "       '$324.00', '$2,006.00', '$385.00', '$313.00', '$529.00', '$477.00',\n",
       "       '$48.00', '$1,865.00', '$406.00', '$417.00', '$682.00', '$61.00',\n",
       "       '$355.00', '$196.00', '$271.00', '$257.00', '$377.00', '$346.00',\n",
       "       '$464.00', '$1,701.00', '$317.00', '$1,814.00', '$765.00',\n",
       "       '$675.00', '$859.00', '$408.00', '$753.00', '$1,886.00', '$999.00',\n",
       "       '$458.00', '$2,289.00', '$443.00', '$396.00', '$1,497.00',\n",
       "       '$1,118.00', '$647.00', '$1,237.00', '$839.00', '$281.00',\n",
       "       '$421.00', '$2,960.00', '$948.00', '$397.00', '$868.00', '$678.00',\n",
       "       '$1,423.00', '$370.00', '$471.00', '$371.00', '$1,401.00',\n",
       "       '$1,377.00', '$1,057.00', '$383.00', '$568.00', '$304.00',\n",
       "       '$5,000.00', '$997.00', '$141.00', '$1,336.00', '$1,800.00',\n",
       "       '$1,403.00', '$184.00', '$1,558.00', '$1,755.00', '$1,255.00',\n",
       "       '$3,406.00', '$688.00', '$1,069.00', '$626.00', '$394.00',\n",
       "       '$852.00', '$1,037.00', '$332.00', '$685.00', '$551.00',\n",
       "       '$1,131.00', '$237.00', '$214.00', '$312.00', '$1,098.00',\n",
       "       '$348.00', '$480.00', '$498.00', '$1,950.00', '$261.00', '$384.00',\n",
       "       '$242.00', '$470.00', '$403.00', '$1,880.00', '$521.00', '$407.00',\n",
       "       '$362.00', '$451.00', '$356.00', '$293.00', '$343.00', '$373.00',\n",
       "       '$509.00', '$560.00', '$224.00', '$585.00', '$469.00', '$4,024.00',\n",
       "       '$146.00', '$483.00', '$1,409.00', '$556.00', '$387.00',\n",
       "       '$1,156.00', '$1,179.00', '$4,850.00', '$554.00', '$411.00',\n",
       "       '$1,100.00', '$1,548.00', '$567.00', '$887.00', '$749.00',\n",
       "       '$1,058.00', '$1,534.00', '$953.00', '$573.00', '$829.00',\n",
       "       '$1,514.00', '$743.00', '$1,524.00', '$883.00', '$735.00',\n",
       "       '$368.00', '$562.00', '$2,964.00', '$2,374.00', '$862.00',\n",
       "       '$1,379.00', '$493.00', '$1,523.00', '$807.00', '$381.00',\n",
       "       '$1,252.00', '$546.00', '$938.00', '$267.00', '$1,752.00',\n",
       "       '$992.00', '$465.00', '$426.00', '$1,735.00', '$3,417.00',\n",
       "       '$1,437.00', '$496.00', '$1,393.00', '$788.00', '$820.00',\n",
       "       '$984.00', '$2,950.00', '$1,949.00', '$1,492.00', '$1,594.00',\n",
       "       '$481.00', '$1,585.00', '$973.00', '$1,079.00', '$9,000.00',\n",
       "       '$461.00', '$1,240.00', '$147.22', '$588.00', '$659.00',\n",
       "       '$1,249.00', '$292.00', '$10.00', '$1,267.00', '$1,792.00',\n",
       "       '$33.00', '$1,050.00', '$1,251.00', '$715.00', '$532.00',\n",
       "       '$870.00', '$872.00', '$591.00', '$25.00', '$1,059.00', '$578.00',\n",
       "       '$232.00', '$784.00', '$593.00', '$723.00', '$522.00', '$955.00',\n",
       "       '$1,002.00', '$649.00', '$835.00', '$1,223.00', '$920.00',\n",
       "       '$587.00'], dtype=object)"
      ]
     },
     "execution_count": 17,
     "metadata": {},
     "output_type": "execute_result"
    }
   ],
   "source": [
    "df['price'].unique()"
   ]
  },
  {
   "cell_type": "code",
   "execution_count": 18,
   "id": "b20e5cbf-7bad-4bb5-bc1b-5f8d407db0b2",
   "metadata": {},
   "outputs": [],
   "source": [
    "df['price'] = df['price'].replace({'\\$':'',',':''},regex=True)\n",
    "df['price'] = df['price'].astype(float).astype(int)"
   ]
  },
  {
   "cell_type": "code",
   "execution_count": 19,
   "id": "06998517-bdb6-41b8-a02d-930033428696",
   "metadata": {},
   "outputs": [
    {
     "data": {
      "text/plain": [
       "array([ 90, 600, 129,  81, 300])"
      ]
     },
     "execution_count": 19,
     "metadata": {},
     "output_type": "execute_result"
    }
   ],
   "source": [
    "df['price'].unique()[:5]"
   ]
  },
  {
   "cell_type": "code",
   "execution_count": 20,
   "id": "0593a5bd-7d9b-4282-9e6a-affda68cd5dd",
   "metadata": {},
   "outputs": [
    {
     "data": {
      "text/plain": [
       "count    2.350878e+06\n",
       "mean     2.674292e+02\n",
       "std      4.622830e+02\n",
       "min      0.000000e+00\n",
       "25%      1.000000e+02\n",
       "50%      1.550000e+02\n",
       "75%      2.780000e+02\n",
       "max      1.200000e+04\n",
       "Name: price, dtype: float64"
      ]
     },
     "execution_count": 20,
     "metadata": {},
     "output_type": "execute_result"
    }
   ],
   "source": [
    "df['price'].describe().T"
   ]
  },
  {
   "cell_type": "code",
   "execution_count": 21,
   "id": "ccdce3d2-8c69-4825-95df-929bb2489fd0",
   "metadata": {},
   "outputs": [
    {
     "data": {
      "text/plain": [
       "month\n",
       "1     267.474076\n",
       "2     267.474076\n",
       "3     267.474076\n",
       "4     267.474076\n",
       "5     267.474076\n",
       "6     266.927041\n",
       "7     267.474076\n",
       "8     267.474076\n",
       "9     267.474076\n",
       "10    267.474076\n",
       "11    267.474076\n",
       "12    267.474076\n",
       "Name: price, dtype: float64"
      ]
     },
     "execution_count": 21,
     "metadata": {},
     "output_type": "execute_result"
    }
   ],
   "source": [
    "df.groupby('month')['price'].mean()"
   ]
  },
  {
   "cell_type": "markdown",
   "id": "5bb1dc9f-1dd8-4b72-ae2f-cad78728c0b2",
   "metadata": {},
   "source": [
    "**trends of new visitors**"
   ]
  },
  {
   "cell_type": "code",
   "execution_count": 23,
   "id": "ea289c2c-ecea-40e0-9d54-27293a5b44e2",
   "metadata": {},
   "outputs": [],
   "source": [
    "df['is_new_visitor'] = df['listing_id'].duplicated(keep='first')\n",
    "\n",
    "df['is_new_visitor'] = ~df['is_new_visitor']"
   ]
  },
  {
   "cell_type": "code",
   "execution_count": 24,
   "id": "2775ae6e-4ef1-456e-b3a8-7fdc449a2e9d",
   "metadata": {},
   "outputs": [],
   "source": [
    "df_new_visitor = df[df['is_new_visitor']]"
   ]
  },
  {
   "cell_type": "code",
   "execution_count": 25,
   "id": "229d61d6-75d0-4807-a8be-f2cde50717cf",
   "metadata": {},
   "outputs": [
    {
     "data": {
      "text/plain": [
       "month\n",
       "6    0.145607\n",
       "Name: available, dtype: float64"
      ]
     },
     "execution_count": 25,
     "metadata": {},
     "output_type": "execute_result"
    }
   ],
   "source": [
    "df_new_visitor.groupby('month')['available'].mean()"
   ]
  },
  {
   "cell_type": "code",
   "execution_count": 26,
   "id": "1f0a9376-d2eb-49ed-8b8c-2a41f54fbed8",
   "metadata": {},
   "outputs": [
    {
     "data": {
      "text/plain": [
       "array([6])"
      ]
     },
     "execution_count": 26,
     "metadata": {},
     "output_type": "execute_result"
    }
   ],
   "source": [
    "df_new_visitor['month'].unique()"
   ]
  },
  {
   "cell_type": "code",
   "execution_count": null,
   "id": "2491f1cd-0e05-4197-b7b6-6600486d8f54",
   "metadata": {},
   "outputs": [],
   "source": []
  },
  {
   "cell_type": "code",
   "execution_count": null,
   "id": "bd14e090-aeab-4ef6-99c9-7b3a2c105b38",
   "metadata": {},
   "outputs": [],
   "source": []
  },
  {
   "cell_type": "code",
   "execution_count": null,
   "id": "861b5d9b-17b9-4199-b5ab-431fd8a4aa3e",
   "metadata": {},
   "outputs": [],
   "source": []
  }
 ],
 "metadata": {
  "kernelspec": {
   "display_name": "Python 3 (ipykernel)",
   "language": "python",
   "name": "python3"
  },
  "language_info": {
   "codemirror_mode": {
    "name": "ipython",
    "version": 3
   },
   "file_extension": ".py",
   "mimetype": "text/x-python",
   "name": "python",
   "nbconvert_exporter": "python",
   "pygments_lexer": "ipython3",
   "version": "3.12.4"
  }
 },
 "nbformat": 4,
 "nbformat_minor": 5
}
